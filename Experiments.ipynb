{
 "cells": [
  {
   "cell_type": "code",
   "execution_count": 1,
   "id": "dae15909",
   "metadata": {},
   "outputs": [
    {
     "name": "stdout",
     "output_type": "stream",
     "text": [
      "Intel MKL WARNING: Support of Intel(R) Streaming SIMD Extensions 4.2 (Intel(R) SSE4.2) enabled only processors has been deprecated. Intel oneAPI Math Kernel Library 2025.0 will require Intel(R) Advanced Vector Extensions (Intel(R) AVX) instructions.\n",
      "Intel MKL WARNING: Support of Intel(R) Streaming SIMD Extensions 4.2 (Intel(R) SSE4.2) enabled only processors has been deprecated. Intel oneAPI Math Kernel Library 2025.0 will require Intel(R) Advanced Vector Extensions (Intel(R) AVX) instructions.\n"
     ]
    }
   ],
   "source": [
    "import numpy as np\n",
    "import matplotlib.pyplot as plt"
   ]
  },
  {
   "cell_type": "markdown",
   "id": "d0fa2d3b",
   "metadata": {},
   "source": [
    "# Pure exploration MAB"
   ]
  },
  {
   "cell_type": "markdown",
   "id": "deecdfa5",
   "metadata": {},
   "source": [
    "We will run UE and UCB-E on Bernoulli rewards. We will always assume that the means are in decreasing order. I.e., the first arm is optimal."
   ]
  },
  {
   "cell_type": "code",
   "execution_count": 38,
   "id": "ac9de0ed",
   "metadata": {},
   "outputs": [],
   "source": [
    "def compute_H(k, means):\n",
    "    gaps = np.array([means[0]-means[i] for i in range(1, k)])\n",
    "    H1 = np.sum(gaps**(-2))\n",
    "    H2 = np.max(np.arange(1, k) * gaps**(-2))\n",
    "    min_gap_inv = np.min(gaps)**(-2)\n",
    "\n",
    "    return H1, H2, min_gap_inv"
   ]
  },
  {
   "cell_type": "markdown",
   "id": "e214655e",
   "metadata": {},
   "source": [
    "Below, we implement the UE and UCB-E algorithms."
   ]
  },
  {
   "cell_type": "code",
   "execution_count": 39,
   "id": "d4f7d9c3",
   "metadata": {},
   "outputs": [],
   "source": [
    "def UE(T, means):\n",
    "    k = len(means)\n",
    "    n = int(T/k) # Number of samples per arm\n",
    "    emp_means = np.zeros(k)\n",
    "\n",
    "    for i in range(k):\n",
    "        emp_means[i] = np.random.binomial(n, p=means[i])\n",
    "    \n",
    "    return np.argmax(emp_means)\n",
    "\n",
    "def UCB_E(eps, T, means):\n",
    "    # Start by sampling once from each arm\n",
    "    k = len(means)\n",
    "    count = np.ones(k) # Number of samples from each arm\n",
    "    sum_rewards = np.random.binomial(n=1, p=means) # Sum of rewards from each arm\n",
    "\n",
    "    for _ in range(T-k):\n",
    "        # Compute UCB indices and pull the arm with the highest index\n",
    "        emp_means = sum_rewards / count\n",
    "        indices = emp_means + np.sqrt(eps / count)\n",
    "        arm = np.argmax(indices)\n",
    "        reward = np.random.binomial(n=1, p=means[arm])\n",
    "\n",
    "        # Update the counts and sum of rewards\n",
    "        count[arm] += 1\n",
    "        sum_rewards[arm] += reward\n",
    "\n",
    "    return np.argmax(sum_rewards / count)"
   ]
  },
  {
   "cell_type": "code",
   "execution_count": 321,
   "id": "8b963755",
   "metadata": {},
   "outputs": [
    {
     "name": "stdout",
     "output_type": "stream",
     "text": [
      "H1: 1900.00, H2: 1900.00, k*Delta^(-2): 2000.00\n",
      "UE error probability: 0.44\n",
      "UCB-E error probability: 0.16\n",
      "UCB-E error probability with eps_2: 0.20\n",
      "\n",
      "########################################################\n",
      "\n",
      "H1: 550.00, H2: 475.00, k*Delta^(-2): 2000.00\n",
      "UE error probability: 0.41\n",
      "UCB-E error probability: 0.18\n",
      "UCB-E error probability with eps_2: 0.17\n",
      "\n",
      "########################################################\n",
      "\n"
     ]
    },
    {
     "data": {
      "image/png": "[encoded data removed]",
      "text/plain": [
       "<Figure size 1000x400 with 2 Axes>"
      ]
     },
     "metadata": {},
     "output_type": "display_data"
    }
   ],
   "source": [
    "iters = 300 # Number of iterations to check error probability\n",
    "k = 20 # Number of arms\n",
    "\n",
    "means_vec = [[0.5] + [0.4] * (k-1),\n",
    "             [0.5] + [0.4] + [0.3] * (k-2)]\n",
    "\n",
    "fig, axes = plt.subplots(1, 2, figsize=(10, 4))\n",
    "\n",
    "for i in range(2):\n",
    "    means = means_vec[i]\n",
    "    H1, H2, min_gap_inv = compute_H(k, means)\n",
    "    print(f\"H1: {H1:.2f}, H2: {H2:.2f}, k*Delta^(-2): {k * min_gap_inv:.2f}\")\n",
    "\n",
    "    T = int(H1) # Number of samples\n",
    "\n",
    "    eps = T / H1\n",
    "    eps_2 = (T - k) / (min_gap_inv + H1)\n",
    "\n",
    "    UE_errors = 0\n",
    "    UCB_errors = 0\n",
    "    UCB_errors_2 = 0\n",
    "\n",
    "    for _ in range(iters):\n",
    "        if UE(T, means) != 0:\n",
    "            UE_errors += 1\n",
    "        if UCB_E(eps, T, means) != 0:\n",
    "            UCB_errors += 1\n",
    "        if UCB_E(eps_2, T, means) != 0:\n",
    "            UCB_errors_2 += 1\n",
    "\n",
    "    errors = np.array([UE_errors, UCB_errors, UCB_errors_2]) / iters\n",
    "\n",
    "    print(f\"UE error probability: {errors[0]:.2f}\")\n",
    "    print(f\"UCB-E error probability: {errors[1]:.2f}\")\n",
    "    print(f\"UCB-E error probability with eps_2: {errors[2]:.2f}\")\n",
    "    print(\"\\n########################################################\\n\")\n",
    "\n",
    "    \n",
    "    axes[i].bar(['UE', 'UCB-E', 'UCB-E with eps_2'], errors)\n",
    "    axes[i].set_ylabel('Error probability')\n",
    "    axes[i].set_ylim(0, 0.5)\n",
    "    axes[i].set_title(f'H1 = {H1:.2f}')\n",
    "\n",
    "\n",
    "\n",
    "plt.tight_layout()\n",
    "plt.show()"
   ]
  },
  {
   "cell_type": "markdown",
   "id": "e00ca684",
   "metadata": {},
   "source": [
    "# MDL"
   ]
  },
  {
   "cell_type": "markdown",
   "id": "e0fde1a4",
   "metadata": {},
   "source": [
    "Here, we will deal with binary data $P_i = \\text{Ber}(p_i)$ and loss $\\ell(a,x) = (a-x)^2$. This means that\n",
    "$$\n",
    "    \\ell(a;p) = \\mathbb{E}_p[\\ell(a,X)] = p(a-1)^2 + (1-p)a^2 = p-2ap+a^2\n",
    "$$\n",
    "We then define the DR loss\n",
    "$$\n",
    "    \\ell(a) = \\max_i \\ell(a;p_i) = \\max_i \\mathbb{E}_{p_i}[\\ell(a,X)]\n",
    "$$\n",
    "We need to compute the empirical proxy\n",
    "$$\n",
    "    \\hat\\ell(a) = \\max_i \\frac{1}{n_i} \\sum_{j=1}^{n_i} \\ell(a,X_{i}^{(j)}) = \\max_i \\frac{1}{n_i} \\sum_{j=1}^{n_i} (a-X_{i}^{(j)})^2\n",
    "$$"
   ]
  },
  {
   "cell_type": "markdown",
   "id": "b79bf3e0",
   "metadata": {},
   "source": [
    "Our action set will be a finite collection of points in the interval $[0,1]$."
   ]
  },
  {
   "cell_type": "code",
   "execution_count": null,
   "id": "7369635c",
   "metadata": {},
   "outputs": [],
   "source": [
    "# Compute the DR losses for all action\n",
    "def compute_DR_losses(actions, means):\n",
    "    l = len(actions)\n",
    "    k = len(means)\n",
    "\n",
    "    print(f\"Actions: {[round(a, 3) for a in actions]}\")\n",
    "    print(f\"Means: {[round(m, 3) for m in means]}\")\n",
    "\n",
    "    # Compute DR losses\n",
    "    dr_losses = np.zeros(l)\n",
    "    for i in range(l):\n",
    "        a = actions[i]\n",
    "        dr_losses[i] = np.max([p*(a-1)**2 + (1-p)*a**2 for p in means])\n",
    "    print(f\"DR losses: {[round(l, 3) for l in dr_losses]}\")\n",
    "\n",
    "    # Retrieve the optimal action and loss\n",
    "    a_opt_ind = np.argmin(dr_losses)\n",
    "    print(f\"Optimal action: {actions[a_opt_ind]:.3f}, Optimal DR loss: {dr_losses[a_opt_ind]:.3f}\")\n",
    "\n",
    "    return dr_losses, actions[a_opt_ind]\n",
    "\n",
    "# Compute the suboptimality gaps for a single action\n",
    "def compute_gaps(a, means):\n",
    "    losses = [p*(a-1)**2 + (1-p)*a**2 for p in means]\n",
    "    return np.max(losses) - losses"
   ]
  },
  {
   "cell_type": "markdown",
   "id": "10ae4a27",
   "metadata": {},
   "source": [
    "## Non-adaptive"
   ]
  },
  {
   "cell_type": "code",
   "execution_count": 1375,
   "id": "1b66b914",
   "metadata": {},
   "outputs": [],
   "source": [
    "# Encompasses both UE and NUE\n",
    "def NUE_DR(counts, actions, means):\n",
    "    l = len(actions)\n",
    "    k = len(means)\n",
    "\n",
    "    emp_losses = np.zeros((l, k))\n",
    "\n",
    "    for i in range(k):\n",
    "        for _ in range(counts[i]):\n",
    "            data = np.random.binomial(n=1, p=means[i])\n",
    "            emp_losses[:, i] += (actions - data)**2\n",
    "        emp_losses[:, i] /= counts[i]\n",
    "\n",
    "    dr_losses = np.max(emp_losses, axis=1)\n",
    "    \n",
    "    return actions[np.argmin(dr_losses)]"
   ]
  },
  {
   "cell_type": "code",
   "execution_count": 1376,
   "id": "215d7a7b",
   "metadata": {},
   "outputs": [
    {
     "name": "stdout",
     "output_type": "stream",
     "text": [
      "Actions: [0.0, 0.067, 0.133, 0.2, 0.267, 0.333, 0.4, 0.467, 0.533, 0.6, 0.667, 0.733, 0.8, 0.867, 0.933]\n",
      "Means: [0.4, 0.1, 0.11, 0.12, 0.13]\n",
      "DR losses: [0.4, 0.351, 0.311, 0.28, 0.258, 0.244, 0.24, 0.244, 0.278, 0.34, 0.411, 0.491, 0.58, 0.678, 0.784]\n",
      "Optimal action: 0.400, Optimal DR loss: 0.240\n"
     ]
    }
   ],
   "source": [
    "l = 15 # Number of actions\n",
    "k = 5 # Number of distributions\n",
    "actions = np.arange(0, 1, 1/l)\n",
    "means = np.array([0.4] + [0.1 + 0.01*i for i in range(k-1)])\n",
    "dr_losses, a_opt = compute_DR_losses(actions, means)\n",
    "\n",
    "T = 1000 # Total number of samples\n",
    "iters = 2000 # Number of iterations to check error probability"
   ]
  },
  {
   "cell_type": "markdown",
   "id": "4f2945bc",
   "metadata": {},
   "source": [
    "We begin by analyzing UE."
   ]
  },
  {
   "cell_type": "code",
   "execution_count": 1389,
   "id": "806e0939",
   "metadata": {},
   "outputs": [
    {
     "name": "stdout",
     "output_type": "stream",
     "text": [
      "UE allocation: [200 200 200 200 200]\n",
      "UE error probability: 0.352\n"
     ]
    }
   ],
   "source": [
    "UE_counts = np.array([T/k] * k).astype(int)\n",
    "UE_errors = 0\n",
    "\n",
    "for _ in range(iters):\n",
    "    if NUE_DR(UE_counts, actions, means) != a_opt:\n",
    "        UE_errors += 1\n",
    "\n",
    "print(f\"UE allocation: {UE_counts}\")\n",
    "print(f\"UE error probability: {UE_errors/iters}\")"
   ]
  },
  {
   "cell_type": "markdown",
   "id": "348cdb09",
   "metadata": {},
   "source": [
    "Next, we check NUE. We will use knowledge of the variances to allocate the samples. In the next section, we will estimate the variances with a burn-in period."
   ]
  },
  {
   "cell_type": "code",
   "execution_count": 1385,
   "id": "ef06133b",
   "metadata": {},
   "outputs": [
    {
     "name": "stdout",
     "output_type": "stream",
     "text": [
      "NUE allocation: [371 139 151 163 174]\n",
      "NUE error probability: 0.197\n"
     ]
    }
   ],
   "source": [
    "variances = means * (1-means)\n",
    "NUE_counts = (T * variances / np.sum(variances)).astype(int)\n",
    "NUE_errors = 0\n",
    "\n",
    "for _ in range(iters):\n",
    "    if NUE_DR(NUE_counts, actions, means) != a_opt:\n",
    "        NUE_errors += 1\n",
    "\n",
    "print(f\"NUE allocation: {NUE_counts}\")\n",
    "print(f\"NUE error probability: {NUE_errors/iters}\")"
   ]
  },
  {
   "cell_type": "markdown",
   "id": "a3761d08",
   "metadata": {},
   "source": [
    "When we don't have any knowledge of the variances, we can resort to estimation. We will start with a basic uniform allocation and compute empirical variances. Given samples $X_1,\\dots,X_n$, we compute the empirical mean and variance as follows:\n",
    "$$\n",
    "    \\hat p = \\frac{1}{n} \\sum_i X_i \\quad\\text{and}\\quad \\hat\\sigma^2 = \\hat p(1-\\hat p)\n",
    "$$"
   ]
  },
  {
   "cell_type": "code",
   "execution_count": 1377,
   "id": "311e7f71",
   "metadata": {},
   "outputs": [],
   "source": [
    "def est_vars(T, means):\n",
    "    k = len(means)\n",
    "    n = int(T/k)\n",
    "\n",
    "    emp_means = np.random.binomial(n, p=means) / n\n",
    "\n",
    "    return emp_means * (1-emp_means)"
   ]
  },
  {
   "cell_type": "code",
   "execution_count": 1387,
   "id": "d9af7ed9",
   "metadata": {},
   "outputs": [
    {
     "name": "stdout",
     "output_type": "stream",
     "text": [
      "True variances: [0.24   0.09   0.0979 0.1056 0.1131]\n",
      "Estimated variances: [0.234375 0.024375 0.09     0.09     0.09    ]\n",
      "NUE (with estimation) allocation: [355  37 137 137 137]\n",
      "NUE (with estimation) error probability: 0.221\n"
     ]
    }
   ],
   "source": [
    "burn_in = 200 # Samples to use for variance estimation\n",
    "hat_var = est_vars(burn_in, means)\n",
    "print(f\"True variances: {means * (1-means)}\")\n",
    "print(f\"Estimated variances: {hat_var}\")\n",
    "\n",
    "\n",
    "NUE_est_counts = ((T-burn_in) * hat_var / np.sum(hat_var)).astype(int) + 1\n",
    "NUE_est_errors = 0\n",
    "\n",
    "for _ in range(iters):\n",
    "    if NUE_DR(NUE_est_counts, actions, means) != a_opt:\n",
    "        NUE_est_errors += 1\n",
    "\n",
    "print(f\"NUE (with estimation) allocation: {NUE_est_counts}\")\n",
    "print(f\"NUE (with estimation) error probability: {NUE_est_errors/iters}\")"
   ]
  },
  {
   "cell_type": "code",
   "execution_count": 1390,
   "id": "663cf685",
   "metadata": {},
   "outputs": [
    {
     "name": "stdout",
     "output_type": "stream",
     "text": [
      "Errors: [0.352 0.197 0.221]\n"
     ]
    },
    {
     "data": {
      "image/png": "[encoded data removed]",
      "text/plain": [
       "<Figure size 640x480 with 1 Axes>"
      ]
     },
     "metadata": {},
     "output_type": "display_data"
    }
   ],
   "source": [
    "errors = np.array([UE_errors, NUE_errors, NUE_est_errors]) / iters\n",
    "print(f\"Errors: {errors}\")\n",
    "\n",
    "plt.bar(['UE', 'NUE', 'NUE with estimation'], errors)\n",
    "plt.title('Error probabilities')\n",
    "plt.ylabel('Error probability')\n",
    "plt.show()\n"
   ]
  },
  {
   "cell_type": "markdown",
   "id": "6e2880c6",
   "metadata": {},
   "source": [
    "## Adaptive"
   ]
  },
  {
   "cell_type": "code",
   "execution_count": 1348,
   "id": "fe46b0f8",
   "metadata": {},
   "outputs": [],
   "source": [
    "def LCB_DR(epsilons, actions, means):\n",
    "    l = len(actions)\n",
    "    k = len(means)\n",
    "\n",
    "    counts = np.ones(k) # Number of samples collected of each distribution\n",
    "    emp_losses = np.zeros((l, k)) # Sum of empirical losses\n",
    "    proxy_DR_losses = np.ones(l) # Estimate DR losses we will optimize at the end\n",
    "\n",
    "    T = 0 # Total number of samples collected\n",
    "\n",
    "    for i in range(k):\n",
    "        data = np.random.binomial(n=1, p=means[i])\n",
    "        emp_losses[:, i] += (actions - data)**2\n",
    "    \n",
    "    for r in range(l):\n",
    "        eps = epsilons[r]\n",
    "        a = actions[r]\n",
    "\n",
    "        # Compute suboptimality gaps\n",
    "        gaps = compute_gaps(a, means)\n",
    "        # print(f\"Action: {a:.2f}, Gaps: {[round(gap, 2) for gap in gaps]}\")\n",
    "        \n",
    "        min_gap = np.min([gap for gap in gaps if gap > 0]) # Minimum positive gap\n",
    "        for i, gap in enumerate(gaps): # We set the gap of the optimal distribution to the minimum gap\n",
    "            if gap == 0: gaps[i] = min_gap\n",
    "                \n",
    "        # Create U_j\n",
    "        U_j = set()\n",
    "        for i in range(k):\n",
    "            count = counts[i]\n",
    "            if count < eps * gaps[i]**(-2):\n",
    "                U_j.add(i)\n",
    "\n",
    "        # Compute U_j related quantities\n",
    "        k_j = len(U_j) # Here, we ignore the indicator\n",
    "        S_j = np.sum([counts[i] for i in U_j]) # This is \\tilde T_j\n",
    "        H_j = np.sum([gaps[i]**(-2) for i in U_j])\n",
    "\n",
    "        # Allocate T_j samples to this round\n",
    "        T_j = int(eps * H_j - S_j + k_j)\n",
    "        T += T_j\n",
    "        # print(f\"Samples allocated at round {r}: {T_j}\")\n",
    "\n",
    "        # Run UCB-E\n",
    "        for _ in range(T_j):\n",
    "            avg_emp_losses = emp_losses[r, :] / counts\n",
    "            indices = avg_emp_losses + np.sqrt(eps / counts)\n",
    "            dist = np.argmax(indices)\n",
    "\n",
    "            data = np.random.binomial(n=1, p=means[dist])\n",
    "            emp_losses[:, dist] += (actions - data)**2\n",
    "            counts[dist] += 1\n",
    "        \n",
    "        worst_dist = np.argmax(emp_losses[r, :] / counts)\n",
    "        proxy_DR_losses[r] = emp_losses[r, worst_dist] / counts[worst_dist]\n",
    "    \n",
    "    # print(f\"Total number of samples collected: {T}\")\n",
    "\n",
    "    return actions[np.argmin(proxy_DR_losses)], T\n",
    "        "
   ]
  },
  {
   "cell_type": "markdown",
   "id": "0c1b408a",
   "metadata": {},
   "source": [
    "### LCB-DR with estimation"
   ]
  },
  {
   "cell_type": "markdown",
   "id": "93b4ff0f",
   "metadata": {},
   "source": [
    "#### Unknown $U_j$\n",
    "\n",
    "Since $U_j$ is approximately the arms that we end up playing in this round, we simply start with the singleton set containing only the first arm that will be played, and initialize $T_j$ to some constant. Then, whenever we sample a new arm, we add it to $U_j$ and increment $T_j$ appropriately. When we test this with knowledge of the gaps, the performance is not too much worse than with full information. It still outperforms UE and NUE.\n",
    "\n",
    "#### Unknown gaps\n",
    "\n",
    "To obtain the desired rate, we need to choose $T_j$ appropriately, which requires the suboptimality gaps, our main hurdle.\n",
    "\n",
    "In standard UCB-E, $T_j$ is fixed, and the learner is updating $\\epsilon_j$ in each phase. In this case, the idea is to split $T_j$ into $k_j$ phases, each of size $T_j/k_j$. Then at the beginning of each phase $m=0,\\ldots$, we estimate $\\Delta_i$ as $\\hat \\Delta_i = \\max_s \\hat \\ell(a,s) - \\hat \\ell(a,i)$. The rough idea is that, in this phase, the largest $m$ of the $\\hat \\Delta_i$'s are good estimates, so we estimate $\\hat H_j = \\max_{k-m\\leq i\\leq k} i/\\hat \\Delta_i^{2}$. Note that this is an estimate of $H_j$ up to log factors. From this, the learner can update $\\epsilon_j$.\n",
    "\n",
    "In our case, we just need to find out what is the desired $T_j$. Below, we proceed as follows:\n",
    "- Start off with a large $T_j$, say 10000. \n",
    "- Run UCB-E as normal, and add the appropriate arms to $U_j$, but do not update $T_j$ immediately.\n",
    "- Once we get past some fraction of the current $T_j$, say 10\\%, we start checking for an update. This is done as follows:\n",
    "    - Estimate all of the gaps empirically.\n",
    "    - Take the largest gap $\\hat\\Delta_{k_j}$ for which the distribution is in $U_j$ (since $H_j$ only sums over $U_j$). This leads to the estimate $\\hat H_j = \\max_{k_j-m\\leq i\\leq k_j} i/\\hat\\Delta_{i}^{-2}$, where $m=0$. We then define a temporary $\\tilde T_j$ and check whether the current iteration is past $(m+1)\\cdot \\tilde T_j/k_j$. \n",
    "        - If it is, then the $\\hat H_j$ estimate should be sound, due to the UCB-E reasoning above. We then set $T_j$ to $\\tilde T_j$ and continue the process: we take the second largest gap from $U_j$ (now $m=1$), and so forth.\n",
    "        - When we reach a point where the current iteration is not large enough, then we go back to UCB-E."
   ]
  },
  {
   "cell_type": "code",
   "execution_count": null,
   "id": "efe0d563",
   "metadata": {},
   "outputs": [],
   "source": [
    "def LCB_DR_est(epsilons, actions, means):\n",
    "    l = len(actions)\n",
    "    k = len(means)\n",
    "\n",
    "    counts = np.ones(k) # Number of samples collected of each distribution\n",
    "    emp_losses = np.zeros((l, k)) # Sum of empirical losses\n",
    "    proxy_DR_losses = np.ones(l) # Estimate DR losses we will optimize at the end\n",
    "\n",
    "    T = 0 # Total number of samples collected\n",
    "\n",
    "    for i in range(k):\n",
    "        data = np.random.binomial(n=1, p=means[i])\n",
    "        emp_losses[:, i] += (actions - data)**2\n",
    "    \n",
    "    for r in range(l):\n",
    "        eps = epsilons[r]\n",
    "        a = actions[r]\n",
    "                \n",
    "        # Create U_j. Start with a single element\n",
    "        avg_emp_losses = emp_losses[r, :] / counts\n",
    "        init_dist = np.argmax(avg_emp_losses + np.sqrt(eps / counts))\n",
    "        U_j = set([init_dist])\n",
    "\n",
    "        T_j = 10000 # Initial sample size. It starts large but will likely decrease\n",
    "        curr_iter = 0 # Current iteration\n",
    "\n",
    "        # Run UCB-E\n",
    "        while curr_iter < T_j:\n",
    "            avg_emp_losses = emp_losses[r, :] / counts\n",
    "            indices = avg_emp_losses + np.sqrt(eps / counts)\n",
    "            dist = np.argmax(indices)\n",
    "\n",
    "            # If distribution not in U_j, add it to U_j \n",
    "            if dist not in U_j:\n",
    "                U_j.add(dist)\n",
    "            \n",
    "\n",
    "            # Whenever we are approaching the end of the round, we reestimate H_j and update T_j if neccesary\n",
    "            if curr_iter > 0.1 * T_j:\n",
    "                est_gaps = compute_gaps(a, avg_emp_losses)\n",
    "                min_gap = np.min([gap for gap in est_gaps if gap > 0]) # Minimum positive gap\n",
    "                for i, gap in enumerate(est_gaps): # We set the gap of the optimal distribution to the minimum gap\n",
    "                    if gap == 0: est_gaps[i] = min_gap\n",
    "                \n",
    "                \n",
    "                k_j = len(U_j) \n",
    "                S_j = np.sum([counts[i] for i in U_j])\n",
    "\n",
    "\n",
    "                add_count = 0 # How many gaps we have added so far\n",
    "                H_2_approx = [] # Approximated gaps * index\n",
    "                index = k - 1\n",
    "\n",
    "                sorted_est_gaps = np.sort(est_gaps)\n",
    "                sorted_est_gaps_ind = np.argsort(est_gaps)\n",
    "\n",
    "                while index >= 0:\n",
    "                    while sorted_est_gaps_ind[index] not in U_j:\n",
    "                        index -= 1\n",
    "                    \n",
    "                    # Create new T_j\n",
    "                    H_2_approx.append(sorted_est_gaps[index]**(-2) * (k_j - add_count))\n",
    "                    H_j = np.max(H_2_approx) # This is the new H_j\n",
    "                    new_T_j = int((eps * H_j - S_j + k_j)/5)\n",
    "\n",
    "\n",
    "                    add_count += 1\n",
    "                    index -= 1\n",
    "\n",
    "                    # If curr_iter is past the point where this is a good approximation, keep going\n",
    "                    if curr_iter > (new_T_j / k_j) * add_count:\n",
    "                        T_j = new_T_j\n",
    "                    else:\n",
    "                        break                \n",
    "\n",
    "\n",
    "            data = np.random.binomial(n=1, p=means[dist])\n",
    "            emp_losses[:, dist] += (actions - data)**2\n",
    "            counts[dist] += 1\n",
    "\n",
    "            curr_iter += 1\n",
    "\n",
    "\n",
    "        T += T_j\n",
    "        \n",
    "        worst_dist = np.argmax(emp_losses[r, :] / counts)\n",
    "        proxy_DR_losses[r] = emp_losses[r, worst_dist] / counts[worst_dist]\n",
    "    \n",
    "\n",
    "    return actions[np.argmin(proxy_DR_losses)], T"
   ]
  },
  {
   "cell_type": "markdown",
   "id": "f3b732f0",
   "metadata": {},
   "source": [
    "### Comparing all methods"
   ]
  },
  {
   "cell_type": "markdown",
   "id": "181c94a7",
   "metadata": {},
   "source": [
    "Below, we create the next problem instance we will work with."
   ]
  },
  {
   "cell_type": "code",
   "execution_count": 1391,
   "id": "cb69569d",
   "metadata": {},
   "outputs": [
    {
     "name": "stdout",
     "output_type": "stream",
     "text": [
      "Actions: [0.37, 0.61]\n",
      "Means: [0.2, 0.5, 0.5, 0.5, 0.5, 0.5, 0.75]\n",
      "DR losses: [0.332, 0.328]\n",
      "Optimal action: 0.610, Optimal DR loss: 0.328\n"
     ]
    }
   ],
   "source": [
    "actions = np.array([0.37, 0.61])\n",
    "means = np.array([0.2] + [0.5]*5 + [0.75])\n",
    "dr_losses, a_opt = compute_DR_losses(actions, means)\n",
    "\n",
    "iters = 500\n",
    "l = len(actions)\n",
    "k = len(means)"
   ]
  },
  {
   "cell_type": "markdown",
   "id": "e5c77122",
   "metadata": {},
   "source": [
    "Below, we run LCB-DR, UE, NUE with estimation, and LCB-DR with estimation."
   ]
  },
  {
   "cell_type": "code",
   "execution_count": null,
   "id": "5e06376e",
   "metadata": {},
   "outputs": [
    {
     "name": "stdout",
     "output_type": "stream",
     "text": [
      "Average number of samples: 11476.7\n",
      "LCB-DR error probability: 0.046\n"
     ]
    }
   ],
   "source": [
    "epsilon = np.ones(len(actions)) * 5\n",
    "LCB_DR_errors = 0\n",
    "total_samples = 0\n",
    "\n",
    "for _ in range(iters):\n",
    "    a, T = LCB_DR(epsilon, actions, means)\n",
    "    total_samples += T\n",
    "    if a != a_opt:\n",
    "        LCB_DR_errors += 1\n",
    "\n",
    "print(f\"Average number of samples: {total_samples/iters}\")\n",
    "print(f\"LCB-DR error probability: {LCB_DR_errors/iters}\")\n"
   ]
  },
  {
   "cell_type": "code",
   "execution_count": 1351,
   "id": "91f9d105",
   "metadata": {},
   "outputs": [
    {
     "name": "stdout",
     "output_type": "stream",
     "text": [
      "UE allocation: [1639 1639 1639 1639 1639 1639 1639]\n",
      "UE error probability: 0.156\n"
     ]
    }
   ],
   "source": [
    "T = total_samples / iters\n",
    "\n",
    "UE_counts = np.array([T/k] * k).astype(int)\n",
    "UE_errors = 0\n",
    "\n",
    "for _ in range(iters):\n",
    "    if NUE_DR(UE_counts, actions, means) != a_opt:\n",
    "        UE_errors += 1\n",
    "\n",
    "print(f\"UE allocation: {UE_counts}\")\n",
    "print(f\"UE error probability: {UE_errors/iters}\")"
   ]
  },
  {
   "cell_type": "code",
   "execution_count": 1352,
   "id": "0a96d9a1",
   "metadata": {},
   "outputs": [
    {
     "name": "stdout",
     "output_type": "stream",
     "text": [
      "True variances: [0.16   0.25   0.25   0.25   0.25   0.25   0.1875]\n",
      "Estimated variances: [0.16058727 0.24978374 0.24846213 0.24913495 0.24846213 0.24961553\n",
      " 0.16916571]\n",
      "NUE (with estimation) allocation: [1024 1593 1584 1589 1584 1592 1079]\n",
      "NUE (with estimation) error probability: 0.198\n"
     ]
    }
   ],
   "source": [
    "burn_in = T/8 # Samples to use for variance estimation\n",
    "hat_var = est_vars(burn_in, means)\n",
    "print(f\"True variances: {means * (1-means)}\")\n",
    "print(f\"Estimated variances: {hat_var}\")\n",
    "\n",
    "\n",
    "NUE_est_counts = ((T-burn_in) * hat_var / np.sum(hat_var)).astype(int) + 1\n",
    "NUE_est_errors = 0\n",
    "\n",
    "for _ in range(iters):\n",
    "    if NUE_DR(NUE_est_counts, actions, means) != a_opt:\n",
    "        NUE_est_errors += 1\n",
    "\n",
    "print(f\"NUE (with estimation) allocation: {NUE_est_counts}\")\n",
    "print(f\"NUE (with estimation) error probability: {NUE_est_errors/iters}\")"
   ]
  },
  {
   "cell_type": "code",
   "execution_count": 1374,
   "id": "e442ac17",
   "metadata": {},
   "outputs": [
    {
     "name": "stdout",
     "output_type": "stream",
     "text": [
      "Average number of samples: 10172.722\n",
      "LCB-DR with estimation error probability: 0.106\n"
     ]
    }
   ],
   "source": [
    "epsilon = np.ones(len(actions)) * 5\n",
    "LCB_DR_est_errors = 0\n",
    "total_samples = 0\n",
    "# iters = 50\n",
    "\n",
    "for _ in range(iters):\n",
    "    a, T = LCB_DR_est(epsilon, actions, means)\n",
    "    total_samples += T\n",
    "    if a != a_opt:\n",
    "        LCB_DR_est_errors += 1\n",
    "\n",
    "print(f\"Average number of samples: {total_samples/iters}\")\n",
    "print(f\"LCB-DR with estimation error probability: {LCB_DR_est_errors/iters}\")\n"
   ]
  },
  {
   "cell_type": "code",
   "execution_count": 1355,
   "id": "6793bd02",
   "metadata": {},
   "outputs": [
    {
     "name": "stdout",
     "output_type": "stream",
     "text": [
      "Errors: [0.156 0.198 0.046 0.11 ]\n"
     ]
    },
    {
     "data": {
      "image/png": "[encoded data removed]",
      "text/plain": [
       "<Figure size 640x480 with 1 Axes>"
      ]
     },
     "metadata": {},
     "output_type": "display_data"
    }
   ],
   "source": [
    "errors = np.array([UE_errors, NUE_est_errors, LCB_DR_errors, LCB_DR_est_errors]) / iters\n",
    "print(f\"Errors: {errors}\")\n",
    "\n",
    "plt.bar(['UE', 'NUE with estimation', 'LCB-DR', 'LCB-DR with estimation'], errors)\n",
    "plt.title('Error probabilities')\n",
    "plt.ylabel('Error probability')\n",
    "plt.show()"
   ]
  }
 ],
 "metadata": {
  "kernelspec": {
   "display_name": "base",
   "language": "python",
   "name": "python3"
  },
  "language_info": {
   "codemirror_mode": {
    "name": "ipython",
    "version": 3
   },
   "file_extension": ".py",
   "mimetype": "text/x-python",
   "name": "python",
   "nbconvert_exporter": "python",
   "pygments_lexer": "ipython3",
   "version": "3.10.13"
  }
 },
 "nbformat": 4,
 "nbformat_minor": 5
}
